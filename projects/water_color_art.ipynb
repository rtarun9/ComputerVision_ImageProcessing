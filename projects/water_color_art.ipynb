{
 "cells": [
  {
   "cell_type": "code",
   "execution_count": 59,
   "metadata": {},
   "outputs": [],
   "source": [
    "# Importing third party libs.\n",
    "\n",
    "import cv2 \n",
    "import numpy as np"
   ]
  },
  {
   "cell_type": "code",
   "execution_count": 60,
   "metadata": {},
   "outputs": [],
   "source": [
    "# Get the image.\n",
    "image = cv2.imread('../data/car_camera_test.jpg')\n",
    "cv2.imshow('raw image', image)\n",
    "\n",
    "# Generate gaussian noise.\n",
    "gauss = np.random.normal(0, 1, image.size )\n",
    "gauss = gauss.reshape(image.shape).astype('uint8')\n",
    "\n",
    "# Noise the image using gaussian noise.\n",
    "noised_image = cv2.add(image, gauss)\n",
    "cv2.imshow('noised image', noised_image)\n",
    "\n",
    "# Removing noise + impurity using median blur.\n",
    "denoised_image = cv2.medianBlur(noised_image, 3)\n",
    "denoised_image = cv2.medianBlur(denoised_image, 3)\n",
    "denoised_image = cv2.medianBlur(denoised_image, 3)\n",
    "cv2.imshow('denoised image', denoised_image)\n",
    "\n",
    "# Bilateral image filtering : used here to preserve edge.\n",
    "bilaterial_filtered_image = cv2.bilateralFilter(denoised_image, 3, 10, 5)\n",
    "cv2.imshow('bilaterial image', bilaterial_filtered_image)\n",
    "\n",
    "# Doing it repeatdly to get blurred image.\n",
    "for i in range(0, 40):\n",
    "    bilaterial_filtered_image = cv2.bilateralFilter(bilaterial_filtered_image, 3, 10, 5)\n",
    "\n",
    "cv2.imshow('h bilaterial image', bilaterial_filtered_image)\n",
    "\n",
    "gaussian_mask = cv2.GaussianBlur(bilaterial_filtered_image, (5, 5), 2)\n",
    "final_image = cv2.addWeighted(bilaterial_filtered_image, 2.5, gaussian_mask, -1.5, gamma=0)\n",
    "final_image = cv2.addWeighted(final_image, 1.5, gaussian_mask, -0.2, 10)\n",
    "\n",
    "cv2.imshow('final image', final_image)\n",
    "\n"
   ]
  },
  {
   "cell_type": "code",
   "execution_count": 61,
   "metadata": {},
   "outputs": [],
   "source": [
    "cv2.waitKey(0)\n",
    "cv2.destroyAllWindows()"
   ]
  }
 ],
 "metadata": {
  "kernelspec": {
   "display_name": "Python 3.10.8 64-bit (microsoft store)",
   "language": "python",
   "name": "python3"
  },
  "language_info": {
   "codemirror_mode": {
    "name": "ipython",
    "version": 3
   },
   "file_extension": ".py",
   "mimetype": "text/x-python",
   "name": "python",
   "nbconvert_exporter": "python",
   "pygments_lexer": "ipython3",
   "version": "3.10.8"
  },
  "orig_nbformat": 4,
  "vscode": {
   "interpreter": {
    "hash": "602ee1658721f7a19ecc36b132ea7457694c6400b87ba051a8adf84368c56df0"
   }
  }
 },
 "nbformat": 4,
 "nbformat_minor": 2
}
