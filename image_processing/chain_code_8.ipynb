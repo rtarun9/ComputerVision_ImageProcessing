{
  "nbformat": 4,
  "nbformat_minor": 0,
  "metadata": {
    "colab": {
      "provenance": []
    },
    "kernelspec": {
      "name": "python3",
      "display_name": "Python 3"
    },
    "language_info": {
      "name": "python"
    }
  },
  "cells": [
    {
      "cell_type": "code",
      "execution_count": 95,
      "metadata": {
        "id": "-zRHKjOrrh0q"
      },
      "outputs": [],
      "source": [
        "import cv2\n",
        "import numpy as np\n",
        "import matplotlib.pyplot as plt"
      ]
    },
    {
      "cell_type": "markdown",
      "source": [
        "Chain code implementation (4 direction)"
      ],
      "metadata": {
        "id": "K583IhCyryLe"
      }
    },
    {
      "cell_type": "code",
      "source": [
        "images = []\n",
        "\n",
        "# Test image : Square\n",
        "image = np.zeros((15, 15), np.uint8)\n",
        "image = cv2.rectangle(image, (4,4), (12,12), (255, 255, 255), -1)\n",
        "image = cv2.rectangle(image, (5,5), (11,11), (0, 0, 0), -1)\n",
        "image = cv2.threshold(image, 0, 255, cv2.THRESH_BINARY)[1]\n",
        "print('Source image')\n",
        "plt.imshow(image, cmap='gray')\n",
        "plt.show()\n",
        "images.append(image)\n",
        "\n",
        "# Test image : Circle\n",
        "image = np.zeros((15, 15), np.uint8)\n",
        "image = cv2.circle(image, (7,7), 4, (255, 255, 255), -1)\n",
        "image = cv2.circle(image, (7,7), 3, (0, 0, 0), -1)\n",
        "image = cv2.threshold(image, 0, 255, cv2.THRESH_BINARY)[1]\n",
        "print('Source image')\n",
        "plt.imshow(image, cmap='gray')\n",
        "plt.show()\n",
        "images.append(image)"
      ],
      "metadata": {
        "colab": {
          "base_uri": "https://localhost:8080/",
          "height": 548
        },
        "id": "Hg73WVGLr2mv",
        "outputId": "bdd6aa50-706a-4988-c6cc-e737f1420c0c"
      },
      "execution_count": 96,
      "outputs": [
        {
          "output_type": "stream",
          "name": "stdout",
          "text": [
            "Source image\n"
          ]
        },
        {
          "output_type": "display_data",
          "data": {
            "text/plain": [
              "<Figure size 432x288 with 1 Axes>"
            ],
            "image/png": "[encoded data removed]"
          },
          "metadata": {
            "needs_background": "light"
          }
        },
        {
          "output_type": "stream",
          "name": "stdout",
          "text": [
            "Source image\n"
          ]
        },
        {
          "output_type": "display_data",
          "data": {
            "text/plain": [
              "<Figure size 432x288 with 1 Axes>"
            ],
            "image/png": "[encoded data removed]"
          },
          "metadata": {
            "needs_background": "light"
          }
        }
      ]
    },
    {
      "cell_type": "code",
      "source": [
        "for image in images:\n",
        "# Get starting position (top leftmost part of image)\n",
        "\n",
        "  print(image.shape)\n",
        "  def get_start_point(image):\n",
        "\n",
        "    start_point = [0, 0]\n",
        "    for j in range(image.shape[0]):\n",
        "      for i in range(image.shape[1]):\n",
        "        #print(i, ' ', j)\n",
        "        if (image[i][j] == 255):\n",
        "          start_point[0] = i\n",
        "          start_point[1] = j\n",
        "          return start_point\n",
        "\n",
        "  print('Starting point:', get_start_point(image))\n",
        "  start_point = get_start_point(image)\n",
        "\n",
        "  def is_in_range(image, point):\n",
        "    if point[0] >= 0 and point[0] < image.shape[0] and point[1] >= 0 and point[1] < image.shape[1]:\n",
        "      return True\n",
        "    return False\n",
        "\n",
        "  def chain_code_8n(image, start_point):\n",
        "    s = \"\"\n",
        "    visited = list()\n",
        "\n",
        "    prev_point = [-1, -1]\n",
        "    curr_point = start_point\n",
        "  \n",
        "    while curr_point in visited and prev_point[0] != curr_point[0] or prev_point[1] != curr_point[1]:\n",
        "      prev_point = curr_point\n",
        "\n",
        "      if (is_in_range(image, [prev_point[0]+1, prev_point[1]]) and image[curr_point[0]+1][curr_point[1]] == 255 and not [prev_point[0]+1, prev_point[1]] in visited):\n",
        "        curr_point = [curr_point[0]+1, curr_point[1]]\n",
        "        s += '0'\n",
        "      \n",
        "      elif (is_in_range(image,  [prev_point[0]+1, prev_point[1]+1]) and image[curr_point[0]+1][curr_point[1]+1] == 255 and not [prev_point[0]+1, prev_point[1]+1] in visited):\n",
        "        curr_point = [curr_point[0]+1, curr_point[1]+1]\n",
        "        s += '7'\n",
        "\n",
        "      elif (is_in_range(image,  [prev_point[0], prev_point[1]+1]) and image[curr_point[0]][curr_point[1]+1] == 255 and not [prev_point[0], prev_point[1]+1] in visited):\n",
        "        curr_point = [curr_point[0], curr_point[1]+1]\n",
        "        s += '6'\n",
        "\n",
        "      elif (is_in_range(image,  [prev_point[0]-1, prev_point[1]+1]) and image[curr_point[0]-1][curr_point[1]+1] == 255 and not [prev_point[0]-1, prev_point[1]+1] in visited):\n",
        "        curr_point = [curr_point[0]-1, curr_point[1]+1]\n",
        "        s += '5'\n",
        "\n",
        "      elif (is_in_range(image,  [prev_point[0]-1, prev_point[1]]) and image[curr_point[0]-1][curr_point[1]] == 255 and not [prev_point[0]-1, prev_point[1]] in visited):\n",
        "        curr_point = [curr_point[0]-1, curr_point[1]]\n",
        "        s += '4'\n",
        "      \n",
        "      elif (is_in_range(image,  [prev_point[0]-1, prev_point[1]-1]) and image[curr_point[0]-1][curr_point[1]-1] == 255 and not [prev_point[0]-1, prev_point[1]-1] in visited):\n",
        "        curr_point = [curr_point[0]-1, curr_point[1]-1]\n",
        "        s += '3'\n",
        "\n",
        "      elif (is_in_range(image,  [prev_point[0], prev_point[1]-1]) and image[curr_point[0]][curr_point[1]-1] == 255 and not [prev_point[0], prev_point[1]-1] in visited):\n",
        "        curr_point = [curr_point[0], curr_point[1]-1]\n",
        "        s += '2'\n",
        "\n",
        "      elif (is_in_range(image,  [prev_point[0]+1, prev_point[1]-1]) and image[curr_point[0]+1][curr_point[1]-1] == 255 and not [prev_point[0]+1, prev_point[1]-1] in visited):\n",
        "        curr_point = [curr_point[0]+1, curr_point[1]-1]\n",
        "        s += '1'\n",
        "\n",
        "      visited.append(curr_point)\n",
        "  \n",
        "      print('CURR NOW : ', curr_point)\n",
        "      #print('PREV NOW : ', prev_point)\n",
        "    print(s)\n",
        "  print('Source image')\n",
        "  plt.figure(figsize=(8, 6), dpi=80)\n",
        "  plt.imshow(image, cmap='gray')\n",
        "  plt.show()\n",
        "\n",
        "  print(chain_code_8n(image, start_point))"
      ],
      "metadata": {
        "colab": {
          "base_uri": "https://localhost:8080/",
          "height": 1000
        },
        "id": "hoIXlePcsYpt",
        "outputId": "cf58264d-92f2-4442-c08e-beb8cd1deeac"
      },
      "execution_count": 97,
      "outputs": [
        {
          "output_type": "stream",
          "name": "stdout",
          "text": [
            "(15, 15)\n",
            "Starting point: [4, 4]\n",
            "Source image\n"
          ]
        },
        {
          "output_type": "display_data",
          "data": {
            "text/plain": [
              "<Figure size 640x480 with 1 Axes>"
            ],
            "image/png": "[encoded data removed]"
          },
          "metadata": {
            "needs_background": "light"
          }
        },
        {
          "output_type": "stream",
          "name": "stdout",
          "text": [
            "CURR NOW :  [5, 4]\n",
            "CURR NOW :  [6, 4]\n",
            "CURR NOW :  [7, 4]\n",
            "CURR NOW :  [8, 4]\n",
            "CURR NOW :  [9, 4]\n",
            "CURR NOW :  [10, 4]\n",
            "CURR NOW :  [11, 4]\n",
            "CURR NOW :  [12, 4]\n",
            "CURR NOW :  [12, 5]\n",
            "CURR NOW :  [12, 6]\n",
            "CURR NOW :  [12, 7]\n",
            "CURR NOW :  [12, 8]\n",
            "CURR NOW :  [12, 9]\n",
            "CURR NOW :  [12, 10]\n",
            "CURR NOW :  [12, 11]\n",
            "CURR NOW :  [12, 12]\n",
            "CURR NOW :  [11, 12]\n",
            "CURR NOW :  [10, 12]\n",
            "CURR NOW :  [9, 12]\n",
            "CURR NOW :  [8, 12]\n",
            "CURR NOW :  [7, 12]\n",
            "CURR NOW :  [6, 12]\n",
            "CURR NOW :  [5, 12]\n",
            "CURR NOW :  [4, 12]\n",
            "CURR NOW :  [4, 11]\n",
            "CURR NOW :  [4, 10]\n",
            "CURR NOW :  [4, 9]\n",
            "CURR NOW :  [4, 8]\n",
            "CURR NOW :  [4, 7]\n",
            "CURR NOW :  [4, 6]\n",
            "CURR NOW :  [4, 5]\n",
            "CURR NOW :  [4, 4]\n",
            "CURR NOW :  [4, 4]\n",
            "00000000666666664444444422222222\n",
            "None\n",
            "(15, 15)\n",
            "Starting point: [7, 3]\n",
            "Source image\n"
          ]
        },
        {
          "output_type": "display_data",
          "data": {
            "text/plain": [
              "<Figure size 640x480 with 1 Axes>"
            ],
            "image/png": "[encoded data removed]"
          },
          "metadata": {
            "needs_background": "light"
          }
        },
        {
          "output_type": "stream",
          "name": "stdout",
          "text": [
            "CURR NOW :  [8, 4]\n",
            "CURR NOW :  [9, 4]\n",
            "CURR NOW :  [10, 5]\n",
            "CURR NOW :  [10, 6]\n",
            "CURR NOW :  [11, 7]\n",
            "CURR NOW :  [10, 8]\n",
            "CURR NOW :  [10, 9]\n",
            "CURR NOW :  [9, 10]\n",
            "CURR NOW :  [8, 10]\n",
            "CURR NOW :  [7, 11]\n",
            "CURR NOW :  [6, 10]\n",
            "CURR NOW :  [5, 10]\n",
            "CURR NOW :  [4, 9]\n",
            "CURR NOW :  [4, 8]\n",
            "CURR NOW :  [3, 7]\n",
            "CURR NOW :  [4, 6]\n",
            "CURR NOW :  [4, 5]\n",
            "CURR NOW :  [5, 4]\n",
            "CURR NOW :  [6, 4]\n",
            "CURR NOW :  [7, 3]\n",
            "CURR NOW :  [7, 3]\n",
            "70767565453432312101\n",
            "None\n"
          ]
        }
      ]
    },
    {
      "cell_type": "code",
      "source": [],
      "metadata": {
        "id": "SOZzfmsctoux"
      },
      "execution_count": 97,
      "outputs": []
    },
    {
      "cell_type": "code",
      "source": [],
      "metadata": {
        "id": "NiMZN301vvxg"
      },
      "execution_count": 97,
      "outputs": []
    }
  ]
}