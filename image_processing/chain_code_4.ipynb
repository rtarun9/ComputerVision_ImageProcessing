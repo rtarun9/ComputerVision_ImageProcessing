{
  "nbformat": 4,
  "nbformat_minor": 0,
  "metadata": {
    "colab": {
      "provenance": []
    },
    "kernelspec": {
      "name": "python3",
      "display_name": "Python 3"
    },
    "language_info": {
      "name": "python"
    }
  },
  "cells": [
    {
      "cell_type": "code",
      "execution_count": 39,
      "metadata": {
        "id": "-zRHKjOrrh0q"
      },
      "outputs": [],
      "source": [
        "import cv2\n",
        "import numpy as np\n",
        "import matplotlib.pyplot as plt"
      ]
    },
    {
      "cell_type": "markdown",
      "source": [
        "Chain code implementation (4 direction)"
      ],
      "metadata": {
        "id": "K583IhCyryLe"
      }
    },
    {
      "cell_type": "code",
      "source": [
        "images = []\n",
        "\n",
        "# Test image : Square\n",
        "image = np.zeros((15, 15), np.uint8)\n",
        "image = cv2.rectangle(image, (4,4), (12,12), (255, 255, 255), -1)\n",
        "image = cv2.rectangle(image, (5,5), (11,11), (0, 0, 0), -1)\n",
        "image = cv2.threshold(image, 0, 255, cv2.THRESH_BINARY)[1]\n",
        "print('Source image')\n",
        "plt.imshow(image, cmap='gray')\n",
        "plt.show()\n",
        "images.append(image)\n",
        "\n",
        "# Test image : Circle\n",
        "image = np.zeros((15, 15), np.uint8)\n",
        "image = cv2.circle(image, (7,7), 4, (255, 255, 255), -1)\n",
        "image = cv2.circle(image, (7,7), 3, (0, 0, 0), -1)\n",
        "image = cv2.threshold(image, 0, 255, cv2.THRESH_BINARY)[1]\n",
        "print('Source image')\n",
        "plt.imshow(image, cmap='gray')\n",
        "plt.show()\n",
        "images.append(image)"
      ],
      "metadata": {
        "colab": {
          "base_uri": "https://localhost:8080/",
          "height": 548
        },
        "id": "Hg73WVGLr2mv",
        "outputId": "eb53b9f2-6e82-4772-b4ad-d2a2a59ed33f"
      },
      "execution_count": 40,
      "outputs": [
        {
          "output_type": "stream",
          "name": "stdout",
          "text": [
            "Source image\n"
          ]
        },
        {
          "output_type": "display_data",
          "data": {
            "text/plain": [
              "<Figure size 432x288 with 1 Axes>"
            ],
            "image/png": "[encoded data removed]"
          },
          "metadata": {
            "needs_background": "light"
          }
        },
        {
          "output_type": "stream",
          "name": "stdout",
          "text": [
            "Source image\n"
          ]
        },
        {
          "output_type": "display_data",
          "data": {
            "text/plain": [
              "<Figure size 432x288 with 1 Axes>"
            ],
            "image/png": "[encoded data removed]"
          },
          "metadata": {
            "needs_background": "light"
          }
        }
      ]
    },
    {
      "cell_type": "code",
      "source": [
        "for image in images:\n",
        "# Get starting position (top leftmost part of image)\n",
        "\n",
        "  def get_start_point(image):\n",
        "    start_point = [0, 0]\n",
        "    for i in range(image.shape[0]):\n",
        "      for j in range(image.shape[1]):\n",
        "        if (image[i][j] == 255):\n",
        "          start_point[0] = i\n",
        "          start_point[1] = i\n",
        "          return start_point\n",
        "\n",
        "  print('Starting point:', get_start_point(image))\n",
        "  start_point = get_start_point(image)\n",
        "\n",
        "  def is_in_range(image, point):\n",
        "    if point[0] >= 0 and point[0] < image.shape[0] and point[1] >= 0 and point[1] < image.shape[1]:\n",
        "      return True\n",
        "    return False\n",
        "\n",
        "  def chain_code_4n(image, start_point):\n",
        "    s = \"\"\n",
        "    visited = list()\n",
        "\n",
        "    prev_point = [-1, -1]\n",
        "    curr_point = start_point\n",
        "  \n",
        "    while curr_point in visited and prev_point[0] != curr_point[0] or prev_point[1] != curr_point[1]:\n",
        "      prev_point = curr_point\n",
        "      # Check for 0 (EAST)\n",
        "      if (is_in_range(image, [prev_point[0]+1, prev_point[1]]) and image[curr_point[0]+1][curr_point[1]] == 255 and not [prev_point[0]+1, prev_point[1]] in visited):\n",
        "        curr_point = [curr_point[0]+1, curr_point[1]]\n",
        "        s += '0'\n",
        "      # Check for 3 (SOUTH)\n",
        "      elif (is_in_range(image,  [prev_point[0], prev_point[1]+1]) and image[curr_point[0]][curr_point[1]+1] == 255 and not [prev_point[0], prev_point[1]+1] in visited):\n",
        "        curr_point = [curr_point[0], curr_point[1]+1]\n",
        "        s += '3'\n",
        "      # Check for 2 (WEST)\n",
        "      elif (is_in_range(image,  [prev_point[0]-1, prev_point[1]]) and image[curr_point[0]-1][curr_point[1]] == 255 and not [prev_point[0]-1, prev_point[1]] in visited):\n",
        "        curr_point = [curr_point[0]-1, curr_point[1]]\n",
        "        s += '2'\n",
        "      # Check for 1 (NORTH)\n",
        "      elif (is_in_range(image,  [prev_point[0], prev_point[1]+1]) and image[curr_point[0]][curr_point[1]-1] == 255 and not [prev_point[0], prev_point[1]-1] in visited):\n",
        "        curr_point = [curr_point[0], curr_point[1]-1]\n",
        "        s += '1'\n",
        "      visited.append(curr_point)\n",
        "  \n",
        "      print('CURR NOW : ', curr_point)\n",
        "      #print('PREV NOW : ', prev_point)\n",
        "    print(s)\n",
        "\n",
        "  print(chain_code_4n(image, start_point))"
      ],
      "metadata": {
        "colab": {
          "base_uri": "https://localhost:8080/"
        },
        "id": "hoIXlePcsYpt",
        "outputId": "777ab157-45a5-4813-a403-d92547279018"
      },
      "execution_count": 41,
      "outputs": [
        {
          "output_type": "stream",
          "name": "stdout",
          "text": [
            "Starting point: [4, 4]\n",
            "CURR NOW :  [5, 4]\n",
            "CURR NOW :  [6, 4]\n",
            "CURR NOW :  [7, 4]\n",
            "CURR NOW :  [8, 4]\n",
            "CURR NOW :  [9, 4]\n",
            "CURR NOW :  [10, 4]\n",
            "CURR NOW :  [11, 4]\n",
            "CURR NOW :  [12, 4]\n",
            "CURR NOW :  [12, 5]\n",
            "CURR NOW :  [12, 6]\n",
            "CURR NOW :  [12, 7]\n",
            "CURR NOW :  [12, 8]\n",
            "CURR NOW :  [12, 9]\n",
            "CURR NOW :  [12, 10]\n",
            "CURR NOW :  [12, 11]\n",
            "CURR NOW :  [12, 12]\n",
            "CURR NOW :  [11, 12]\n",
            "CURR NOW :  [10, 12]\n",
            "CURR NOW :  [9, 12]\n",
            "CURR NOW :  [8, 12]\n",
            "CURR NOW :  [7, 12]\n",
            "CURR NOW :  [6, 12]\n",
            "CURR NOW :  [5, 12]\n",
            "CURR NOW :  [4, 12]\n",
            "CURR NOW :  [4, 11]\n",
            "CURR NOW :  [4, 10]\n",
            "CURR NOW :  [4, 9]\n",
            "CURR NOW :  [4, 8]\n",
            "CURR NOW :  [4, 7]\n",
            "CURR NOW :  [4, 6]\n",
            "CURR NOW :  [4, 5]\n",
            "CURR NOW :  [4, 4]\n",
            "CURR NOW :  [4, 4]\n",
            "00000000333333332222222211111111\n",
            "None\n",
            "Starting point: [3, 3]\n",
            "CURR NOW :  [3, 3]\n",
            "\n",
            "None\n"
          ]
        }
      ]
    },
    {
      "cell_type": "code",
      "source": [],
      "metadata": {
        "id": "SOZzfmsctoux"
      },
      "execution_count": 41,
      "outputs": []
    },
    {
      "cell_type": "code",
      "source": [],
      "metadata": {
        "id": "NiMZN301vvxg"
      },
      "execution_count": 41,
      "outputs": []
    }
  ]
}